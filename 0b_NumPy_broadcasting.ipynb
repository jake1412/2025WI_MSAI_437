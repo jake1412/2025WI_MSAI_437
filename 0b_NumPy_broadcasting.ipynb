{
 "cells": [
  {
   "cell_type": "markdown",
   "id": "aFN-BWJ4Znet",
   "metadata": {
    "id": "aFN-BWJ4Znet"
   },
   "source": [
    "## **Problems with NumPy Broadcasting**\n",
    "\n",
    "[Source](https://deeplearning.cs.cmu.edu/S25/index.html): CMU's Deep Learning Recitations"
   ]
  },
  {
   "cell_type": "code",
   "execution_count": null,
   "id": "d900bf88-153d-43a3-96da-64b7f2ee49a5",
   "metadata": {
    "id": "d900bf88-153d-43a3-96da-64b7f2ee49a5"
   },
   "outputs": [],
   "source": [
    "import numpy as np\n",
    "import torch"
   ]
  },
  {
   "cell_type": "markdown",
   "id": "A1piy7dPftRn",
   "metadata": {
    "id": "A1piy7dPftRn"
   },
   "source": [
    "### **a. Element-wise multiplication**\n"
   ]
  },
  {
   "cell_type": "markdown",
   "id": "G8Ebamd5QVLx",
   "metadata": {
    "id": "G8Ebamd5QVLx"
   },
   "source": [
    "When working with 1D and 2D arrays in NumPy, a noteworthy challenge arises.\n",
    "\n",
    "When you element-wise multiply a column vector with a shape of (a, 1) and a row vector with a shape of (1, a) in NumPy, the result is a 2D matrix with dimensions (a, a) and not a vector. This occurs due to NumPy's implicit broadcasting of both vectors to 2D matrices before performing element-wise multiplication.\n",
    "\n",
    "The same broadcasting behavior occurs if the second input is a 1D array of shape (a,) instead of a row vector. NumPy treats 1D arrays as row vectors during operations, leading to the same outcome.\n",
    "\n",
    "The only case where expected vector algebra behavior occurs is when both inputs are either column vectors or row vectors/1D arrays, as their shapes broadcast consistently.\n",
    "\n",
    "It is very important to examine the shapes following elementwise multiplication when column vectors are involved."
   ]
  },
  {
   "cell_type": "code",
   "execution_count": null,
   "id": "qgxTKfjzPwDz",
   "metadata": {
    "colab": {
     "base_uri": "https://localhost:8080/"
    },
    "id": "qgxTKfjzPwDz",
    "outputId": "f98ed134-eb82-4cb0-e347-c86ad5593e7e"
   },
   "outputs": [],
   "source": [
    "# Creating a 1D NumPy array from the list\n",
    "numbers_list = [1, 2, 3, 4]\n",
    "array_1 = np.array(numbers_list)\n",
    "print(\"Array 1 is \\n\", array_1, \" with dimensions \", array_1.shape)\n",
    "\n",
    "# Creating another 1D NumPy array from the list\n",
    "numbers_list = [5, 6, 7, 8]\n",
    "array_2 = np.array(numbers_list)\n",
    "print(\"Array 2 is \\n\", array_2, \" with dimensions \", array_2.shape)\n",
    "\n",
    "# Creating a 2D array with a column vector\n",
    "column_vector = np.array([[1], [2], [3], [4]])\n",
    "print(\"Column vector is \\n\", column_vector, \" with dimensions \", column_vector.shape)"
   ]
  },
  {
   "cell_type": "code",
   "execution_count": null,
   "id": "XxrwGpfbUVPP",
   "metadata": {
    "colab": {
     "base_uri": "https://localhost:8080/"
    },
    "id": "XxrwGpfbUVPP",
    "outputId": "e7dc5907-fd08-4f19-a55c-fb3d304b359f"
   },
   "outputs": [],
   "source": [
    "# CASE 1: Performing Element-wise multiplication of two 1D arrays: Array_1 and Array_2\n",
    "result_array_1 = array_1 * array_2\n",
    "print(\"The result of element-wise multiplication is:\", result_array_1, \" with dimensions \", result_array_1.shape)"
   ]
  },
  {
   "cell_type": "code",
   "execution_count": null,
   "id": "BnPin97NUEGJ",
   "metadata": {
    "colab": {
     "base_uri": "https://localhost:8080/"
    },
    "id": "BnPin97NUEGJ",
    "outputId": "a6b6f300-bbfd-4c58-e2a0-cb5120ae5652"
   },
   "outputs": [],
   "source": [
    "# CASE 2: Performing Element-wise multiplication of a column_vector and a 1D array(array_1)\n",
    "result_array_2 = column_vector * array_1\n",
    "print(\"The result of element-wise multiplication is:\\n\", result_array_2, \" with dimensions \", result_array_2.shape)"
   ]
  },
  {
   "cell_type": "markdown",
   "id": "dTYp9bL3EhSo",
   "metadata": {
    "id": "dTYp9bL3EhSo"
   },
   "source": [
    "\n",
    "When NumPy uses the @ operator to multiply two 1D arrays, it treats one of them as a row vector and the other as a column vector, resulting in a scalar value."
   ]
  },
  {
   "cell_type": "code",
   "execution_count": null,
   "id": "v4tVAh5k_vk4",
   "metadata": {
    "colab": {
     "base_uri": "https://localhost:8080/"
    },
    "id": "v4tVAh5k_vk4",
    "outputId": "c5eddaad-4358-4ffa-e3fe-381ba6739fb5"
   },
   "outputs": [],
   "source": [
    "# CASE 3: Performing Matrix multiplication of two 1D arrays: Array_1 and Array_2\n",
    "\n",
    "result_array_3 = array_1 @ array_2\n",
    "print(\"The result of matrix multiplication is:\", result_array_3)"
   ]
  },
  {
   "cell_type": "markdown",
   "id": "_uWt0uXLf4BL",
   "metadata": {
    "id": "_uWt0uXLf4BL"
   },
   "source": [
    "### **b. Element-wise Addition**\n"
   ]
  },
  {
   "cell_type": "markdown",
   "id": "sCjQeiknf_Km",
   "metadata": {
    "id": "sCjQeiknf_Km"
   },
   "source": [
    "Similar broadcasting behavior what we saw above is observed in the context of element-wise addition"
   ]
  },
  {
   "cell_type": "code",
   "execution_count": null,
   "id": "FOqNIsKEgBxh",
   "metadata": {
    "colab": {
     "base_uri": "https://localhost:8080/"
    },
    "id": "FOqNIsKEgBxh",
    "outputId": "6582709c-2ba6-4f19-e6bf-7a878121ea32"
   },
   "outputs": [],
   "source": [
    "# CASE 4: Performing Element-wise Addition of two  1D arrays: Array_1 and Array_2\n",
    "\n",
    "result_array_4 = array_1 + array_2\n",
    "print(\"The result of element-wise Addition is:\", result_array_4, \" with dimensions \", result_array_4.shape)"
   ]
  },
  {
   "cell_type": "code",
   "execution_count": null,
   "id": "rsLWoTwIgBzc",
   "metadata": {
    "colab": {
     "base_uri": "https://localhost:8080/"
    },
    "id": "rsLWoTwIgBzc",
    "outputId": "5c27524c-b29d-45fa-dfa3-5b3866f1787b"
   },
   "outputs": [],
   "source": [
    "# CASE 5: Performing Element-wise Addition of a column_vector and a 1D array(array_1)\n",
    "\n",
    "result_array_5 = column_vector + array_1\n",
    "print(\"The result of element-wise Addition is:\\n\", result_array_5, \" with dimensions \", result_array_5.shape)"
   ]
  },
  {
   "cell_type": "markdown",
   "id": "opUugd36mISJ",
   "metadata": {
    "id": "opUugd36mISJ"
   },
   "source": [
    "### **c. Swapping matrix multiplication (@) with element wise multiplication (*)**\n"
   ]
  },
  {
   "cell_type": "markdown",
   "id": "2bMbG_pym4EI",
   "metadata": {
    "id": "2bMbG_pym4EI"
   },
   "source": [
    "Consider a scenario where you want to perform a matrix multiplication. However, by mistake you use an asterisk * instead of a matrix multiplication operator (@). Despite the incorrect operator, the code will still run without error due to the broadcasting functionality in Python. The shapes matching might lead you to think that what you are doing is right whereas in reality, a matrix multiplication was required. You will get wrong values."
   ]
  },
  {
   "cell_type": "code",
   "execution_count": null,
   "id": "yWQM08ykpSm6",
   "metadata": {
    "colab": {
     "base_uri": "https://localhost:8080/"
    },
    "id": "yWQM08ykpSm6",
    "outputId": "fb603590-0dd5-451f-afa7-461fe6d80486"
   },
   "outputs": [],
   "source": [
    "# Create a 4x4 2D array with random values between 0 and 1\n",
    "array_3 = np.random.rand(4, 4)\n",
    "print(\"Randomly Generated 2D Array is :\\n\", array_3, \" with dimensions \", array_3.shape)"
   ]
  },
  {
   "cell_type": "code",
   "execution_count": null,
   "id": "wMWbcDlPp8Zq",
   "metadata": {
    "colab": {
     "base_uri": "https://localhost:8080/"
    },
    "id": "wMWbcDlPp8Zq",
    "outputId": "b0b06e01-d98c-48d1-c2c6-b94bd83139ae"
   },
   "outputs": [],
   "source": [
    "# CASE 6: Matrix multiplication (@) involving a 1D array acting as a row vector and a 2D array\n",
    "result_array_6 = array_1 @ array_3\n",
    "print(\"The result of Matrix multiplication is:\\n\", result_array_6, \" with dimensions \", result_array_6.shape)"
   ]
  },
  {
   "cell_type": "code",
   "execution_count": null,
   "id": "0WuRq8RBj3A5",
   "metadata": {
    "colab": {
     "base_uri": "https://localhost:8080/"
    },
    "id": "0WuRq8RBj3A5",
    "outputId": "7d04bd4e-cc32-4afd-fcb9-7ef7fa3bb48e"
   },
   "outputs": [],
   "source": [
    "# CASE 7: Substituting matrix multiplication (@) with element-wise multiplication (*) still functions due to Broadcasting\n",
    "\n",
    "result_array_7 = array_1 * array_3\n",
    "print(\"The result of element-wise multiplication is:\\n\", result_array_7, \" with dimensions \", result_array_7.shape)"
   ]
  },
  {
   "cell_type": "markdown",
   "id": "aU3iRFXWUZSt",
   "metadata": {
    "id": "aU3iRFXWUZSt"
   },
   "source": [
    "Similar observations can be made when using PyTorch instead of NumPy for matrix multiplication"
   ]
  },
  {
   "cell_type": "code",
   "execution_count": null,
   "id": "3n7F8aYf09hX",
   "metadata": {
    "colab": {
     "base_uri": "https://localhost:8080/"
    },
    "id": "3n7F8aYf09hX",
    "outputId": "c7324a90-c9df-4d36-87dc-3e47d3985f3d"
   },
   "outputs": [],
   "source": [
    "# Create a 1D tensor\n",
    "\n",
    "tensor1 = torch.tensor([1, 2, 3, 4])\n",
    "print(\"Shape of tensor1:\", tensor1.shape)"
   ]
  },
  {
   "cell_type": "code",
   "execution_count": null,
   "id": "Mge-65Tp1C_q",
   "metadata": {
    "colab": {
     "base_uri": "https://localhost:8080/"
    },
    "id": "Mge-65Tp1C_q",
    "outputId": "a1f29789-27dc-4561-b8df-49197ad3c4cb"
   },
   "outputs": [],
   "source": [
    "# Create a random 2D tensor\n",
    "\n",
    "tensor2 = torch.randint(0, 10, (4, 4))\n",
    "print(\"Shape of tensor2:\", tensor2.shape)"
   ]
  },
  {
   "cell_type": "code",
   "execution_count": null,
   "id": "O94YrpAk1NeR",
   "metadata": {
    "colab": {
     "base_uri": "https://localhost:8080/"
    },
    "id": "O94YrpAk1NeR",
    "outputId": "59e835a8-8585-4186-eea1-c7ed2d6e5945"
   },
   "outputs": [],
   "source": [
    "# CASE 8: Matrix multiplication (@) involving a 1D array acting as a row vector and a 2D array\n",
    "\n",
    "matrix_product = tensor1 @ tensor2\n",
    "print(\"Matrix multiplication result:\\n\", matrix_product, \" with dimensions \", matrix_product.shape)"
   ]
  },
  {
   "cell_type": "code",
   "execution_count": null,
   "id": "Il56LSgOXPbE",
   "metadata": {
    "colab": {
     "base_uri": "https://localhost:8080/"
    },
    "id": "Il56LSgOXPbE",
    "outputId": "788d4aec-208d-45ab-8afd-11ac687a443c"
   },
   "outputs": [],
   "source": [
    "# CASE 9: Substituting matrix multiplication (@) with element-wise multiplication (*) still functions due to Broadcasting\n",
    "\n",
    "elementwise_product = tensor1 * tensor2\n",
    "print(\"Element-wise multiplication result:\\n\", elementwise_product, \" with dimensions \", elementwise_product.shape)"
   ]
  },
  {
   "cell_type": "code",
   "execution_count": null,
   "id": "tBC2TAwoLC5R",
   "metadata": {
    "id": "tBC2TAwoLC5R"
   },
   "outputs": [],
   "source": []
  }
 ],
 "metadata": {
  "colab": {
   "provenance": []
  },
  "kernelspec": {
   "display_name": "Python 3 (ipykernel)",
   "language": "python",
   "name": "python3"
  },
  "language_info": {
   "codemirror_mode": {
    "name": "ipython",
    "version": 3
   },
   "file_extension": ".py",
   "mimetype": "text/x-python",
   "name": "python",
   "nbconvert_exporter": "python",
   "pygments_lexer": "ipython3",
   "version": "3.12.8"
  }
 },
 "nbformat": 4,
 "nbformat_minor": 5
}

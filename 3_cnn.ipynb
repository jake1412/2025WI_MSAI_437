{
 "cells": [
  {
   "cell_type": "markdown",
   "metadata": {},
   "source": [
    "# Notebook 3: Convolution Neural Network"
   ]
  },
  {
   "cell_type": "code",
   "execution_count": null,
   "metadata": {
    "id": "_QmCn8QZT0Dj"
   },
   "outputs": [],
   "source": [
    "from collections import defaultdict\n",
    "\n",
    "import matplotlib.pyplot as plt\n",
    "import numpy as np\n",
    "import torch\n",
    "from sklearn.datasets import load_digits\n",
    "from sklearn.model_selection import train_test_split\n",
    "from torchvision import datasets\n",
    "from torchvision.transforms import ToTensor"
   ]
  },
  {
   "cell_type": "code",
   "execution_count": null,
   "metadata": {},
   "outputs": [],
   "source": [
    "# using CUDA\n",
    "device = torch.device(\"cuda\" if torch.cuda.is_available() else \"cpu\")\n",
    "print(f\"Using device: {device}\")"
   ]
  },
  {
   "cell_type": "code",
   "execution_count": null,
   "metadata": {
    "colab": {
     "base_uri": "https://localhost:8080/",
     "height": 244
    },
    "id": "qnXaSkXiT-j2",
    "outputId": "53491255-ea95-4cc8-c753-4bbdccb9b8bc"
   },
   "outputs": [],
   "source": [
    "X, y = load_digits(return_X_y=True)\n",
    "fig, axes = plt.subplots(\n",
    "    nrows=1,\n",
    "    ncols=5,\n",
    "    figsize=(20, 5),\n",
    "    sharex=True,\n",
    ")\n",
    "plt.gray()\n",
    "for i, axis in enumerate(axes):\n",
    "    axis.matshow(X[i, :].reshape(8, 8))\n",
    "plt.show()"
   ]
  },
  {
   "cell_type": "code",
   "execution_count": null,
   "metadata": {
    "id": "9zu7TtrxU-g3"
   },
   "outputs": [],
   "source": [
    "class CNN(torch.nn.Module):\n",
    "    def __init__(self, linear_layer_size):\n",
    "        super(CNN, self).__init__()\n",
    "        self.linear_layer_size = linear_layer_size\n",
    "\n",
    "        self.conv1 = torch.nn.Conv2d(1, 32, kernel_size=2)\n",
    "        self.conv2 = torch.nn.Conv2d(32, 16, kernel_size=2)\n",
    "        self.linear = torch.nn.Linear(linear_layer_size, 10)\n",
    "\n",
    "    def forward(self, x):\n",
    "        batch_size = x.size(0)\n",
    "\n",
    "        relu = torch.nn.ReLU()\n",
    "        maxpool = torch.nn.MaxPool2d(kernel_size=2)\n",
    "\n",
    "        x = self.conv1(x)\n",
    "        x = maxpool(relu(x))\n",
    "\n",
    "        x = self.conv2(x)\n",
    "        x = maxpool(relu(x))\n",
    "\n",
    "        x = x.reshape(batch_size, self.linear_layer_size)\n",
    "        x = self.linear(x)\n",
    "        return x"
   ]
  },
  {
   "cell_type": "code",
   "execution_count": null,
   "metadata": {
    "id": "TbQuuj7Ugo0z"
   },
   "outputs": [],
   "source": [
    "def print_model(model):\n",
    "    \"\"\"\n",
    "    A simple functon that prints out a PyTorch model's structural details\n",
    "    \"\"\"\n",
    "    # Print the number of parameters in the model\n",
    "    parameter_count = sum(p.numel() for p in model.parameters() if p.requires_grad)\n",
    "    print(\"In total, this network has \", parameter_count, \" parameters\")"
   ]
  },
  {
   "cell_type": "code",
   "execution_count": null,
   "metadata": {
    "id": "YY7gL73sWCtf"
   },
   "outputs": [],
   "source": [
    "def run_one_epoch(model, optimizer, X, y, train=True):\n",
    "    if train:\n",
    "        model.train()\n",
    "        optimizer.zero_grad()\n",
    "    else:\n",
    "        model.eval()\n",
    "\n",
    "    output = model(X).squeeze()\n",
    "    acc = torch.sum(torch.argmax(output, dim=1) == y) / y.size(0)\n",
    "    loss = torch.nn.CrossEntropyLoss()(output, y)\n",
    "\n",
    "    if train:\n",
    "        loss.backward()\n",
    "        optimizer.step()\n",
    "\n",
    "    # Detach tells torch to stop tracking a tensor's gradients\n",
    "    return acc.detach(), loss.detach()"
   ]
  },
  {
   "cell_type": "code",
   "execution_count": null,
   "metadata": {},
   "outputs": [],
   "source": [
    "X, y = load_digits(return_X_y=True)\n",
    "X = torch.tensor(X.reshape(-1, 1, 8, 8)).to(dtype=torch.float32, device=device)\n",
    "y = torch.tensor(y).to(dtype=torch.long, device=device)\n",
    "mnist = train_test_split(X, y, test_size=0.2)\n",
    "print(\"train:\", mnist[0].shape)\n",
    "print(\"test: \", mnist[1].shape)"
   ]
  },
  {
   "cell_type": "code",
   "execution_count": null,
   "metadata": {
    "id": "QaXeUgwvWZ2M"
   },
   "outputs": [],
   "source": [
    "def demo(model, data, n_epochs=100, verbose=False, device=\"cpu\"):\n",
    "    print(f\"Using device: {device}\")\n",
    "    X_train, X_test, y_train, y_test = data\n",
    "    X_train, X_test = X_train.to(device), X_test.to(device)\n",
    "    y_train, y_test = y_train.to(device), y_test.to(device)\n",
    "    model = model.to(device)  # Move model to device\n",
    "\n",
    "    optimizer = torch.optim.Adam(model.parameters(), lr=0.001)\n",
    "\n",
    "    results = defaultdict(list)\n",
    "    for i in range(n_epochs):\n",
    "        train_acc, train_loss = run_one_epoch(model, optimizer, X_train, y_train, train=True)\n",
    "        test_acc, test_loss = run_one_epoch(model, optimizer, X_test, y_test, train=False)\n",
    "\n",
    "        results[\"train_acc\"].append(train_acc.cpu())  # Move results back to CPU for easier handling\n",
    "        results[\"test_acc\"].append(test_acc.cpu())\n",
    "        results[\"train_loss\"].append(train_loss.cpu())\n",
    "        results[\"test_loss\"].append(test_loss.cpu())\n",
    "\n",
    "        if verbose and (i + 1) % (n_epochs // 10) == 0:\n",
    "            train_stats = f\"Train loss: {train_loss:.3f} Train accuracy: {100 * train_acc:4.1f}%\"\n",
    "            test_stats = f\"Test loss: {test_loss:.3f} Test accuracy: {100 * test_acc:.1f}%\"\n",
    "            print(f\"{i + 1:4d} {train_stats} {test_stats}\")\n",
    "\n",
    "    return results"
   ]
  },
  {
   "cell_type": "code",
   "execution_count": null,
   "metadata": {},
   "outputs": [],
   "source": [
    "def plot(results):\n",
    "    fig, axes = plt.subplots(nrows=1, ncols=2, figsize=(10, 5), constrained_layout=True)\n",
    "\n",
    "    ax = axes[0]\n",
    "    ax.set_title(\"Loss per Epoch\")\n",
    "    train_loss = results[\"train_loss\"]\n",
    "    test_loss = results[\"test_loss\"]\n",
    "    n_epochs = len(train_loss)\n",
    "    ax.plot(np.arange(n_epochs), train_loss, c=\"r\", label=\"Train Loss\")\n",
    "    ax.plot(np.arange(n_epochs), test_loss, c=\"b\", label=\"Test Loss\")\n",
    "    ax.legend(loc=\"best\")\n",
    "    ymin, ymax = ax.get_ylim()\n",
    "    ax.set_ylim(ymin, 2 * ymax)\n",
    "\n",
    "    # Bottom right\n",
    "    ax = axes[1]\n",
    "    ax.set_title(\"Accuracy per Epoch\")\n",
    "    train_acc = results[\"train_acc\"]\n",
    "    test_acc = results[\"test_acc\"]\n",
    "    n_epochs = len(train_acc)\n",
    "    ax.plot(np.arange(n_epochs), train_acc, c=\"r\", label=\"Train Acc\")\n",
    "    ax.plot(np.arange(n_epochs), test_acc, c=\"b\", label=\"Test Acc\")\n",
    "    ax.legend(loc=\"best\")\n",
    "    ax.set_ylim(0, 1.1)\n",
    "\n",
    "    plt.show()"
   ]
  },
  {
   "cell_type": "code",
   "execution_count": null,
   "metadata": {
    "colab": {
     "base_uri": "https://localhost:8080/"
    },
    "id": "_hIfh8YbXJE_",
    "outputId": "109edb08-242e-49c1-9eff-c9ee973c4585"
   },
   "outputs": [],
   "source": [
    "model = CNN(linear_layer_size=16)\n",
    "print_model(model)\n",
    "results = demo(model, mnist, 100, verbose=True, device=device)\n",
    "plot(results)"
   ]
  },
  {
   "cell_type": "code",
   "execution_count": null,
   "metadata": {
    "id": "WtLuNswsgYsb"
   },
   "outputs": [],
   "source": [
    "class Net(torch.nn.Module):\n",
    "    def __init__(self, input_dim, activation=torch.tanh):\n",
    "        super().__init__()\n",
    "\n",
    "        self.input_dim = input_dim\n",
    "        self.layer1 = torch.nn.Linear(input_dim, 32)\n",
    "        self.layer2 = torch.nn.Linear(32, 16)\n",
    "        self.layer3 = torch.nn.Linear(16, 10)\n",
    "        self.activation = activation\n",
    "\n",
    "        for layer in [self.layer1, self.layer2, self.layer3]:\n",
    "            torch.nn.init.xavier_uniform_(layer.weight)\n",
    "\n",
    "    def forward(self, x):\n",
    "\n",
    "        x = x.reshape(-1, self.input_dim)\n",
    "\n",
    "        x = self.activation(self.layer1(x))\n",
    "        x = self.activation(self.layer2(x))\n",
    "        x = self.layer3(x)\n",
    "        return x"
   ]
  },
  {
   "cell_type": "code",
   "execution_count": null,
   "metadata": {
    "colab": {
     "base_uri": "https://localhost:8080/",
     "height": 572
    },
    "id": "vBlc6KN9hX9f",
    "outputId": "ada9eab6-29ba-410e-d34e-2409a838be37"
   },
   "outputs": [],
   "source": [
    "model = Net(64)\n",
    "print_model(model)\n",
    "results = demo(model, mnist, 100, verbose=True, device=device)\n",
    "plot(results)"
   ]
  },
  {
   "cell_type": "code",
   "execution_count": null,
   "metadata": {
    "colab": {
     "base_uri": "https://localhost:8080/"
    },
    "id": "AIqRnnGBiz2g",
    "outputId": "9f2d74df-3916-458b-da01-3a8702a998a5"
   },
   "outputs": [],
   "source": [
    "train_data = datasets.MNIST(\n",
    "    root=\"data\",\n",
    "    train=True,\n",
    "    transform=ToTensor(),\n",
    "    download=True,\n",
    ")\n",
    "test_data = datasets.MNIST(root=\"data\", train=False, transform=ToTensor())\n",
    "n_train = 1437\n",
    "n_test = 360"
   ]
  },
  {
   "cell_type": "code",
   "execution_count": null,
   "metadata": {},
   "outputs": [],
   "source": [
    "X_train = train_data.data[:n_train].to(dtype=torch.float, device=device)\n",
    "X_train = X_train.reshape(n_train, 1, 28, 28)\n",
    "y_train = train_data.targets[:n_train].to(dtype=torch.long, device=device)\n",
    "\n",
    "X_test = test_data.data[:n_test].to(dtype=torch.float, device=device)\n",
    "X_test = X_test.reshape(n_test, 1, 28, 28)\n",
    "y_test = test_data.targets[:n_test].to(dtype=torch.long, device=device)\n",
    "\n",
    "large_mnist = (X_train, X_test, y_train, y_test)\n",
    "print(\"train:\", large_mnist[0].shape)\n",
    "print(\"test: \", large_mnist[1].shape)"
   ]
  },
  {
   "cell_type": "code",
   "execution_count": null,
   "metadata": {
    "colab": {
     "base_uri": "https://localhost:8080/",
     "height": 572
    },
    "id": "ut5a9j5Pi3I5",
    "outputId": "285bf45b-3728-48ea-efc5-13ffea110c8b"
   },
   "outputs": [],
   "source": [
    "model = CNN(linear_layer_size=576)\n",
    "print_model(model)\n",
    "results = demo(model, large_mnist, 100, verbose=True, device=device)\n",
    "plot(results)"
   ]
  },
  {
   "cell_type": "code",
   "execution_count": null,
   "metadata": {
    "colab": {
     "base_uri": "https://localhost:8080/",
     "height": 572
    },
    "id": "KQyn1bH-ngpa",
    "outputId": "cbfaeb6c-906d-4cc0-dfc2-927cd36b6e7b"
   },
   "outputs": [],
   "source": [
    "model = Net(784)\n",
    "print_model(model)\n",
    "results = demo(model, large_mnist, 100, verbose=True, device=device)\n",
    "plot(results)"
   ]
  },
  {
   "cell_type": "code",
   "execution_count": null,
   "metadata": {},
   "outputs": [],
   "source": []
  }
 ],
 "metadata": {
  "colab": {
   "provenance": []
  },
  "kernelspec": {
   "display_name": "Python 3 (ipykernel)",
   "language": "python",
   "name": "python3"
  },
  "language_info": {
   "codemirror_mode": {
    "name": "ipython",
    "version": 3
   },
   "file_extension": ".py",
   "mimetype": "text/x-python",
   "name": "python",
   "nbconvert_exporter": "python",
   "pygments_lexer": "ipython3",
   "version": "3.12.8"
  }
 },
 "nbformat": 4,
 "nbformat_minor": 4
}
